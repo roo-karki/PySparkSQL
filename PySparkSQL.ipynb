{
  "nbformat": 4,
  "nbformat_minor": 0,
  "metadata": {
    "colab": {
      "provenance": []
    },
    "kernelspec": {
      "name": "python3",
      "display_name": "Python 3"
    },
    "language_info": {
      "name": "python"
    }
  },
  "cells": [
    {
      "cell_type": "code",
      "source": [
        "!pip install pyspark"
      ],
      "metadata": {
        "colab": {
          "base_uri": "https://localhost:8080/"
        },
        "id": "YhsHlq1Pe3Ar",
        "outputId": "2c811c29-58fa-4e39-9e7f-5ff556a8a05d"
      },
      "execution_count": null,
      "outputs": [
        {
          "output_type": "stream",
          "name": "stdout",
          "text": [
            "Looking in indexes: https://pypi.org/simple, https://us-python.pkg.dev/colab-wheels/public/simple/\n",
            "Collecting pyspark\n",
            "  Downloading pyspark-3.4.0.tar.gz (310.8 MB)\n",
            "\u001b[2K     \u001b[90m━━━━━━━━━━━━━━━━━━━━━━━━━━━━━━━━━━━━━━━\u001b[0m \u001b[32m310.8/310.8 MB\u001b[0m \u001b[31m4.5 MB/s\u001b[0m eta \u001b[36m0:00:00\u001b[0m\n",
            "\u001b[?25h  Preparing metadata (setup.py) ... \u001b[?25l\u001b[?25hdone\n",
            "Requirement already satisfied: py4j==0.10.9.7 in /usr/local/lib/python3.9/dist-packages (from pyspark) (0.10.9.7)\n",
            "Building wheels for collected packages: pyspark\n",
            "  Building wheel for pyspark (setup.py) ... \u001b[?25l\u001b[?25hdone\n",
            "  Created wheel for pyspark: filename=pyspark-3.4.0-py2.py3-none-any.whl size=311317145 sha256=e79387ade992f8fac4bae8d1b180c36fba9e0485aa01fc5b1df970984d64877e\n",
            "  Stored in directory: /root/.cache/pip/wheels/9f/34/a4/159aa12d0a510d5ff7c8f0220abbea42e5d81ecf588c4fd884\n",
            "Successfully built pyspark\n",
            "Installing collected packages: pyspark\n",
            "Successfully installed pyspark-3.4.0\n"
          ]
        }
      ]
    },
    {
      "cell_type": "code",
      "execution_count": null,
      "metadata": {
        "colab": {
          "base_uri": "https://localhost:8080/"
        },
        "id": "ZBGkpk23esV5",
        "outputId": "3182c05e-c374-4511-db14-f1653ec9f979"
      },
      "outputs": [
        {
          "output_type": "stream",
          "name": "stdout",
          "text": [
            "+---------+--------+------------------+-----------+--------------+----------+----------+-------------+------------------+---------------+\n",
            "|longitude|latitude|housing_median_age|total_rooms|total_bedrooms|population|households|median_income|median_house_value|ocean_proximity|\n",
            "+---------+--------+------------------+-----------+--------------+----------+----------+-------------+------------------+---------------+\n",
            "|  -122.23|   37.88|              41.0|      880.0|         129.0|     322.0|     126.0|       8.3252|          452600.0|       NEAR BAY|\n",
            "|  -122.22|   37.86|              21.0|     7099.0|        1106.0|    2401.0|    1138.0|       8.3014|          358500.0|       NEAR BAY|\n",
            "|  -122.24|   37.85|              52.0|     1467.0|         190.0|     496.0|     177.0|       7.2574|          352100.0|       NEAR BAY|\n",
            "|  -122.25|   37.85|              52.0|     1274.0|         235.0|     558.0|     219.0|       5.6431|          341300.0|       NEAR BAY|\n",
            "|  -122.25|   37.85|              52.0|     1627.0|         280.0|     565.0|     259.0|       3.8462|          342200.0|       NEAR BAY|\n",
            "|  -122.25|   37.85|              52.0|      919.0|         213.0|     413.0|     193.0|       4.0368|          269700.0|       NEAR BAY|\n",
            "|  -122.25|   37.84|              52.0|     2535.0|         489.0|    1094.0|     514.0|       3.6591|          299200.0|       NEAR BAY|\n",
            "|  -122.25|   37.84|              52.0|     3104.0|         687.0|    1157.0|     647.0|         3.12|          241400.0|       NEAR BAY|\n",
            "|  -122.26|   37.84|              42.0|     2555.0|         665.0|    1206.0|     595.0|       2.0804|          226700.0|       NEAR BAY|\n",
            "|  -122.25|   37.84|              52.0|     3549.0|         707.0|    1551.0|     714.0|       3.6912|          261100.0|       NEAR BAY|\n",
            "|  -122.26|   37.85|              52.0|     2202.0|         434.0|     910.0|     402.0|       3.2031|          281500.0|       NEAR BAY|\n",
            "|  -122.26|   37.85|              52.0|     3503.0|         752.0|    1504.0|     734.0|       3.2705|          241800.0|       NEAR BAY|\n",
            "|  -122.26|   37.85|              52.0|     2491.0|         474.0|    1098.0|     468.0|        3.075|          213500.0|       NEAR BAY|\n",
            "|  -122.26|   37.84|              52.0|      696.0|         191.0|     345.0|     174.0|       2.6736|          191300.0|       NEAR BAY|\n",
            "|  -122.26|   37.85|              52.0|     2643.0|         626.0|    1212.0|     620.0|       1.9167|          159200.0|       NEAR BAY|\n",
            "|  -122.26|   37.85|              50.0|     1120.0|         283.0|     697.0|     264.0|        2.125|          140000.0|       NEAR BAY|\n",
            "|  -122.27|   37.85|              52.0|     1966.0|         347.0|     793.0|     331.0|        2.775|          152500.0|       NEAR BAY|\n",
            "|  -122.27|   37.85|              52.0|     1228.0|         293.0|     648.0|     303.0|       2.1202|          155500.0|       NEAR BAY|\n",
            "|  -122.26|   37.84|              50.0|     2239.0|         455.0|     990.0|     419.0|       1.9911|          158700.0|       NEAR BAY|\n",
            "|  -122.27|   37.84|              52.0|     1503.0|         298.0|     690.0|     275.0|       2.6033|          162900.0|       NEAR BAY|\n",
            "+---------+--------+------------------+-----------+--------------+----------+----------+-------------+------------------+---------------+\n",
            "only showing top 20 rows\n",
            "\n"
          ]
        }
      ],
      "source": [
        "from pyspark.sql import SparkSession\n",
        "spark = SparkSession.builder.appName(\"Read Top 5 Rows from CSV\").getOrCreate()\n",
        "df = spark.read.csv(\"housing.csv\", header = True)\n",
        "df.show()"
      ]
    },
    {
      "cell_type": "code",
      "source": [
        "#creating table using createOrReplaceTempview\n",
        "df.createOrReplaceTempView(\"myTable\")"
      ],
      "metadata": {
        "id": "1yr2w2fjevdV"
      },
      "execution_count": null,
      "outputs": []
    },
    {
      "cell_type": "code",
      "source": [
        "top5Rows = spark.sql(\"SELECT * FROM myTable LIMIT 5\")\n",
        "top5Rows.show()"
      ],
      "metadata": {
        "colab": {
          "base_uri": "https://localhost:8080/"
        },
        "id": "wl0yZ7uffqvm",
        "outputId": "4ca1795d-f19e-43bc-bda4-3626893d489b"
      },
      "execution_count": null,
      "outputs": [
        {
          "output_type": "stream",
          "name": "stdout",
          "text": [
            "+---------+--------+------------------+-----------+--------------+----------+----------+-------------+------------------+---------------+\n",
            "|longitude|latitude|housing_median_age|total_rooms|total_bedrooms|population|households|median_income|median_house_value|ocean_proximity|\n",
            "+---------+--------+------------------+-----------+--------------+----------+----------+-------------+------------------+---------------+\n",
            "|  -122.23|   37.88|              41.0|      880.0|         129.0|     322.0|     126.0|       8.3252|          452600.0|       NEAR BAY|\n",
            "|  -122.22|   37.86|              21.0|     7099.0|        1106.0|    2401.0|    1138.0|       8.3014|          358500.0|       NEAR BAY|\n",
            "|  -122.24|   37.85|              52.0|     1467.0|         190.0|     496.0|     177.0|       7.2574|          352100.0|       NEAR BAY|\n",
            "|  -122.25|   37.85|              52.0|     1274.0|         235.0|     558.0|     219.0|       5.6431|          341300.0|       NEAR BAY|\n",
            "|  -122.25|   37.85|              52.0|     1627.0|         280.0|     565.0|     259.0|       3.8462|          342200.0|       NEAR BAY|\n",
            "+---------+--------+------------------+-----------+--------------+----------+----------+-------------+------------------+---------------+\n",
            "\n"
          ]
        }
      ]
    },
    {
      "cell_type": "code",
      "source": [
        "#1. What is the minimum income\n",
        "minimumIncome = spark.sql(\"select MIN(median_income)as Minimun_Income from myTable\")\n",
        "minimumIncome.show()"
      ],
      "metadata": {
        "colab": {
          "base_uri": "https://localhost:8080/"
        },
        "id": "-9DwMRzToEU9",
        "outputId": "e6d567f1-5bdb-4bb4-c021-902b68c26904"
      },
      "execution_count": null,
      "outputs": [
        {
          "output_type": "stream",
          "name": "stdout",
          "text": [
            "+--------------+\n",
            "|Minimun_Income|\n",
            "+--------------+\n",
            "|        0.4999|\n",
            "+--------------+\n",
            "\n"
          ]
        }
      ]
    },
    {
      "cell_type": "code",
      "source": [
        "#2.What is the maximum income\n",
        "spark.sql('select * from myTable where median_income = (select max(median_income) from myTable)').show()"
      ],
      "metadata": {
        "colab": {
          "base_uri": "https://localhost:8080/"
        },
        "id": "3u0TfA1gq5Q7",
        "outputId": "9ced2ad1-2661-419f-bf20-9e4f00545413"
      },
      "execution_count": null,
      "outputs": [
        {
          "output_type": "stream",
          "name": "stdout",
          "text": [
            "+---------+--------+------------------+-----------+--------------+----------+----------+-------------+------------------+---------------+\n",
            "|longitude|latitude|housing_median_age|total_rooms|total_bedrooms|population|households|median_income|median_house_value|ocean_proximity|\n",
            "+---------+--------+------------------+-----------+--------------+----------+----------+-------------+------------------+---------------+\n",
            "|  -117.93|    33.9|              30.0|     2629.0|         331.0|     956.0|     319.0|       9.9071|          500001.0|      <1H OCEAN|\n",
            "+---------+--------+------------------+-----------+--------------+----------+----------+-------------+------------------+---------------+\n",
            "\n"
          ]
        }
      ]
    },
    {
      "cell_type": "code",
      "source": [
        "#3.What is the average income\n",
        "avgIncome = spark.sql(\"select avg(median_income)as avg_Income from myTable\")\n",
        "avgIncome.show()"
      ],
      "metadata": {
        "colab": {
          "base_uri": "https://localhost:8080/"
        },
        "id": "xMiZ7wCjrXBP",
        "outputId": "57ca5048-ddff-40e1-b021-57f97e915e0d"
      },
      "execution_count": null,
      "outputs": [
        {
          "output_type": "stream",
          "name": "stdout",
          "text": [
            "+------------------+\n",
            "|        avg_Income|\n",
            "+------------------+\n",
            "|3.8706710029070246|\n",
            "+------------------+\n",
            "\n"
          ]
        }
      ]
    },
    {
      "cell_type": "code",
      "source": [
        "#4. What is Average income between from Lowest to average income\n",
        "avg_income_between=spark.sql(\"SELECT AVG(median_income) as Average_Income_between FROM myTable WHERE median_income <=(SELECT AVG(median_income)FROM myTable) AND median_income >=(SELECT MIN(median_income) FROM myTable)\")\n",
        "avg_income_between.show()"
      ],
      "metadata": {
        "colab": {
          "base_uri": "https://localhost:8080/"
        },
        "id": "2A5N3xp3rkOM",
        "outputId": "8ac0245a-4638-49f8-e5b3-ea6006c569db"
      },
      "execution_count": null,
      "outputs": [
        {
          "output_type": "stream",
          "name": "stdout",
          "text": [
            "+----------------------+\n",
            "|Average_Income_between|\n",
            "+----------------------+\n",
            "|    2.6656849300233136|\n",
            "+----------------------+\n",
            "\n"
          ]
        }
      ]
    },
    {
      "cell_type": "code",
      "source": [
        "#5.What is average icome from average income to maximum one\n",
        "avg_income_between_higher=spark.sql(\"SELECT AVG(median_income) as Average_Income_between_avgtomax FROM myTable WHERE median_income >=(SELECT AVG(median_income)FROM myTable) AND median_income <=(SELECT MAX(median_income) FROM myTable)\")\n",
        "avg_income_between_higher.show()"
      ],
      "metadata": {
        "colab": {
          "base_uri": "https://localhost:8080/"
        },
        "id": "pfREK5AWuLeK",
        "outputId": "da03d240-b4ce-477b-e5cb-50718c441845"
      },
      "execution_count": null,
      "outputs": [
        {
          "output_type": "stream",
          "name": "stdout",
          "text": [
            "+-------------------------------+\n",
            "|Average_Income_between_avgtomax|\n",
            "+-------------------------------+\n",
            "|              5.545596062992115|\n",
            "+-------------------------------+\n",
            "\n"
          ]
        }
      ]
    },
    {
      "cell_type": "code",
      "source": [
        "#Task- Check how many duplicate latitude presents and show me the list of rows which does not have\n",
        "#duplicate latitude\n",
        "\n",
        "duplicate_latitudes_count = spark.sql(\"SELECT latitude, COUNT(*) as count FROM myTable GROUP BY latitude HAVING count > 1\").count()\n",
        "duplicate_latitudes_count"
      ],
      "metadata": {
        "colab": {
          "base_uri": "https://localhost:8080/"
        },
        "id": "EadK555B3goK",
        "outputId": "608eb848-d866-4641-95b2-3178da8a3385"
      },
      "execution_count": null,
      "outputs": [
        {
          "output_type": "execute_result",
          "data": {
            "text/plain": [
              "779"
            ]
          },
          "metadata": {},
          "execution_count": 48
        }
      ]
    },
    {
      "cell_type": "code",
      "source": [
        "non_duplicate_df = spark.sql(\"SELECT * FROM myTable WHERE latitude NOT IN (SELECT latitude FROM myTable GROUP BY latitude HAVING COUNT(*) > 1)\")"
      ],
      "metadata": {
        "id": "O1YCdhua4_VB"
      },
      "execution_count": null,
      "outputs": []
    },
    {
      "cell_type": "code",
      "source": [],
      "metadata": {
        "id": "hnIoKsS08bJ9"
      },
      "execution_count": null,
      "outputs": []
    },
    {
      "cell_type": "code",
      "source": [
        "non_duplicate_df.show()"
      ],
      "metadata": {
        "colab": {
          "base_uri": "https://localhost:8080/"
        },
        "id": "b1wgqkW-5Tn2",
        "outputId": "73eb064f-d0ed-4661-83f2-5709aa04117f"
      },
      "execution_count": null,
      "outputs": [
        {
          "output_type": "stream",
          "name": "stdout",
          "text": [
            "+---------+--------+------------------+-----------+--------------+----------+----------+-------------+------------------+---------------+\n",
            "|longitude|latitude|housing_median_age|total_rooms|total_bedrooms|population|households|median_income|median_house_value|ocean_proximity|\n",
            "+---------+--------+------------------+-----------+--------------+----------+----------+-------------+------------------+---------------+\n",
            "|   -121.8|   39.64|              25.0|     2202.0|         422.0|    1109.0|     403.0|       2.8306|           87500.0|         INLAND|\n",
            "|  -121.56|   39.69|               8.0|     2836.0|         522.0|    1163.0|     512.0|         3.13|          168300.0|         INLAND|\n",
            "|  -121.46|   39.54|              14.0|     5549.0|        1000.0|    1822.0|     919.0|       2.9562|          142300.0|         INLAND|\n",
            "|  -121.74|   39.38|              27.0|     2596.0|         435.0|    1100.0|     409.0|       2.3243|           85500.0|         INLAND|\n",
            "|  -124.21|   41.77|              17.0|     3461.0|         722.0|    1947.0|     647.0|       2.5795|           68400.0|     NEAR OCEAN|\n",
            "|  -124.16|   41.92|              19.0|     1668.0|         324.0|     841.0|     283.0|       2.1336|           75000.0|     NEAR OCEAN|\n",
            "|   -124.3|   41.84|              17.0|     2677.0|         531.0|    1244.0|     456.0|       3.0313|          103600.0|     NEAR OCEAN|\n",
            "|  -123.91|   41.68|              22.0|     1880.0|         360.0|     743.0|     314.0|       2.9688|          152700.0|      <1H OCEAN|\n",
            "|  -123.83|   41.88|              18.0|     1504.0|         357.0|     660.0|     258.0|         3.13|          116700.0|      <1H OCEAN|\n",
            "|  -119.69|   36.46|              29.0|     1702.0|         301.0|     914.0|     280.0|       2.8125|           79200.0|         INLAND|\n",
            "|  -124.08|   40.91|              13.0|     2522.0|         719.0|    1381.0|     628.0|       1.6667|           78800.0|     NEAR OCEAN|\n",
            "|  -123.76|   41.03|              24.0|     2386.0|         565.0|    1058.0|     414.0|       2.0644|           79800.0|      <1H OCEAN|\n",
            "|  -123.72|   41.09|              19.0|     1970.0|         431.0|    1166.0|     363.0|       1.8208|           50000.0|      <1H OCEAN|\n",
            "|  -123.63|   41.11|              19.0|     1797.0|         384.0|    1033.0|     327.0|       1.4911|           59200.0|      <1H OCEAN|\n",
            "|  -123.66|    41.3|              22.0|     1580.0|         372.0|     686.0|     264.0|       1.8065|           62700.0|      <1H OCEAN|\n",
            "|  -123.52|   41.01|              17.0|     1564.0|         345.0|     517.0|     222.0|       2.1542|           83800.0|         INLAND|\n",
            "|  -124.08|   41.36|              29.0|     1029.0|         239.0|     509.0|     196.0|       2.0156|           62800.0|     NEAR OCEAN|\n",
            "|  -124.06|   41.13|              22.0|     3263.0|         799.0|    1384.0|     578.0|       2.4708|          119400.0|     NEAR OCEAN|\n",
            "|  -124.16|   41.02|              23.0|     1672.0|         385.0|    1060.0|     390.0|       2.1726|           75500.0|     NEAR OCEAN|\n",
            "|  -124.17|   40.74|              17.0|     2026.0|         338.0|     873.0|     313.0|       4.0357|          128900.0|     NEAR OCEAN|\n",
            "+---------+--------+------------------+-----------+--------------+----------+----------+-------------+------------------+---------------+\n",
            "only showing top 20 rows\n",
            "\n"
          ]
        }
      ]
    },
    {
      "cell_type": "code",
      "source": [
        "#Task 2- on Which latitude and longitude has minimum population\n",
        "min_population_row = spark.sql(\"SELECT latitude, longitude, population FROM myTable ORDER BY population ASC LIMIT 1\")\n",
        "\n",
        "min_population_row.show()"
      ],
      "metadata": {
        "colab": {
          "base_uri": "https://localhost:8080/"
        },
        "id": "OtfHd1s_8G-q",
        "outputId": "437810b1-1834-49df-d711-f6c678abc394"
      },
      "execution_count": null,
      "outputs": [
        {
          "output_type": "stream",
          "name": "stdout",
          "text": [
            "+--------+---------+----------+\n",
            "|latitude|longitude|population|\n",
            "+--------+---------+----------+\n",
            "|   37.95|  -122.37|     100.0|\n",
            "+--------+---------+----------+\n",
            "\n"
          ]
        }
      ]
    },
    {
      "cell_type": "markdown",
      "source": [],
      "metadata": {
        "id": "5C-PNdsr8S0Z"
      }
    },
    {
      "cell_type": "code",
      "source": [
        "data = [('James','','Smith','1991-04-01','M',3000),\n",
        "  ('Michael','Rose','','2000-05-19','M',4000),\n",
        "  ('Robert','','Williams','1978-09-05','M',4000),\n",
        "  ('Maria','Anne','Jones','1967-12-01','F',4000),\n",
        "  ('Jen','Mary','Brown','1980-02-17','F',-1)\n",
        "]\n",
        "columns = [\"firstname\",\"middlename\",\"lastname\",\"dob\",\"gender\",\"salary\"]\n",
        "simple_df = spark.createDataFrame(data,  schema=columns)\n",
        "simple_df.show()"
      ],
      "metadata": {
        "colab": {
          "base_uri": "https://localhost:8080/"
        },
        "id": "P3HSH15ufvsk",
        "outputId": "4c6a271d-3e06-41ed-ad08-f3058268ea11"
      },
      "execution_count": null,
      "outputs": [
        {
          "output_type": "stream",
          "name": "stdout",
          "text": [
            "+---------+----------+--------+----------+------+------+\n",
            "|firstname|middlename|lastname|       dob|gender|salary|\n",
            "+---------+----------+--------+----------+------+------+\n",
            "|    James|          |   Smith|1991-04-01|     M|  3000|\n",
            "|  Michael|      Rose|        |2000-05-19|     M|  4000|\n",
            "|   Robert|          |Williams|1978-09-05|     M|  4000|\n",
            "|    Maria|      Anne|   Jones|1967-12-01|     F|  4000|\n",
            "|      Jen|      Mary|   Brown|1980-02-17|     F|    -1|\n",
            "+---------+----------+--------+----------+------+------+\n",
            "\n"
          ]
        }
      ]
    },
    {
      "cell_type": "code",
      "source": [
        "#creating table using createOrReplaceTempview\n",
        "simple_df.createOrReplaceTempView(\"dataTable\")"
      ],
      "metadata": {
        "id": "Rn-FoarljOsy"
      },
      "execution_count": null,
      "outputs": []
    },
    {
      "cell_type": "code",
      "source": [
        "new_df = spark.sql(\"SELECT *, CASE WHEN salary < 4000 THEN True Else False End as increment FROM dataTable\")\n",
        "new_df.show()"
      ],
      "metadata": {
        "colab": {
          "base_uri": "https://localhost:8080/"
        },
        "id": "dk4AvpfljWg9",
        "outputId": "ac046b17-0154-4a47-9abf-2f6bdd8efe56"
      },
      "execution_count": null,
      "outputs": [
        {
          "output_type": "stream",
          "name": "stdout",
          "text": [
            "+---------+----------+--------+----------+------+------+---------+\n",
            "|firstname|middlename|lastname|       dob|gender|salary|increment|\n",
            "+---------+----------+--------+----------+------+------+---------+\n",
            "|    James|          |   Smith|1991-04-01|     M|  3000|     true|\n",
            "|  Michael|      Rose|        |2000-05-19|     M|  4000|    false|\n",
            "|   Robert|          |Williams|1978-09-05|     M|  4000|    false|\n",
            "|    Maria|      Anne|   Jones|1967-12-01|     F|  4000|    false|\n",
            "|      Jen|      Mary|   Brown|1980-02-17|     F|    -1|     true|\n",
            "+---------+----------+--------+----------+------+------+---------+\n",
            "\n"
          ]
        }
      ]
    },
    {
      "cell_type": "code",
      "source": [],
      "metadata": {
        "id": "AKylarJTku03"
      },
      "execution_count": null,
      "outputs": []
    }
  ]
}